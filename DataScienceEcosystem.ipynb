{
 "cells": [
  {
   "cell_type": "markdown",
   "id": "9df75bb6-d75b-4072-9941-45440f355407",
   "metadata": {},
   "source": [
    "# Data Science Tools and Exosystem"
   ]
  },
  {
   "cell_type": "markdown",
   "id": "2485dcd0-ae41-4bf2-b112-7a7568a33261",
   "metadata": {},
   "source": [
    "In this notebook, Data Science Tools and Ecosystem are summarized."
   ]
  },
  {
   "cell_type": "markdown",
   "id": "a8270db9-76f6-4f9a-9a1b-10166c3360d9",
   "metadata": {},
   "source": [
    "**Objectives:**\n",
    "- List popular languages for Data Science\n",
    "- List commonly used libraries in Data Science\n",
    "- Create a table of open source IDE for Data Science\n",
    "- Create and evaluate arithmetic expressions"
   ]
  },
  {
   "cell_type": "markdown",
   "id": "9f79a0b5-67b4-46ca-bdee-1ef3f39946a1",
   "metadata": {},
   "source": [
    "Some of the popular languages that Data Scientists use are:\n",
    "1. Python\n",
    "2. R\n",
    "3. SQL"
   ]
  },
  {
   "cell_type": "markdown",
   "id": "079ecff6-e953-47ca-939c-fb69eb0f25b0",
   "metadata": {},
   "source": [
    "Some of the commonly used libraries used by Data Scientists include:\n",
    "1. Pandas\n",
    "2. NumPy\n",
    "3. Matplotlib\n",
    "4. SciPy"
   ]
  },
  {
   "cell_type": "markdown",
   "id": "09b2c426-01a6-46fa-8a4b-ab7430d2cc90",
   "metadata": {},
   "source": [
    "|Data Science Tools|\n",
    "|----|\n",
    "|Jupyter|\n",
    "|RStudio|\n",
    "|Spyder|"
   ]
  },
  {
   "cell_type": "markdown",
   "id": "7b67e703-eefd-4772-b577-1a58f99e1838",
   "metadata": {},
   "source": [
    "### Below are a few examples of evaluating arithmetic expressions in Python."
   ]
  },
  {
   "cell_type": "code",
   "execution_count": 4,
   "id": "b491e708-f201-43a5-bb14-544106cef038",
   "metadata": {},
   "outputs": [
    {
     "data": {
      "text/plain": [
       "17"
      ]
     },
     "execution_count": 4,
     "metadata": {},
     "output_type": "execute_result"
    }
   ],
   "source": [
    "# This is a simple arithmetic expression to multiply and then add integers.\n",
    "(3*4)+5\n"
   ]
  },
  {
   "cell_type": "code",
   "execution_count": 6,
   "id": "69810022-0e0e-411c-b93e-5f634443fd28",
   "metadata": {},
   "outputs": [
    {
     "data": {
      "text/plain": [
       "3.3333333333333335"
      ]
     },
     "execution_count": 6,
     "metadata": {},
     "output_type": "execute_result"
    }
   ],
   "source": [
    "# This will convert 200 minutes to hours by dividing by 60.\n",
    "200/60"
   ]
  },
  {
   "cell_type": "markdown",
   "id": "10a901ee-3aed-4beb-acda-8144e3f178cd",
   "metadata": {},
   "source": [
    "## Author\n",
    "Simon Almholt"
   ]
  },
  {
   "cell_type": "code",
   "execution_count": null,
   "id": "9f6afa85-c375-42f1-b9dc-ab0349359f22",
   "metadata": {},
   "outputs": [],
   "source": []
  }
 ],
 "metadata": {
  "kernelspec": {
   "display_name": "Python 3 (ipykernel)",
   "language": "python",
   "name": "python3"
  },
  "language_info": {
   "codemirror_mode": {
    "name": "ipython",
    "version": 3
   },
   "file_extension": ".py",
   "mimetype": "text/x-python",
   "name": "python",
   "nbconvert_exporter": "python",
   "pygments_lexer": "ipython3",
   "version": "3.11.9"
  }
 },
 "nbformat": 4,
 "nbformat_minor": 5
}
